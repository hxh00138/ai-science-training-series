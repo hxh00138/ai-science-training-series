{
  "nbformat": 4,
  "nbformat_minor": 0,
  "metadata": {
    "colab": {
      "provenance": [],
      "authorship_tag": "ABX9TyN4TFzk64AuBUJK/PaBMv68",
      "include_colab_link": true
    },
    "kernelspec": {
      "name": "python3",
      "display_name": "Python 3"
    },
    "language_info": {
      "name": "python"
    }
  },
  "cells": [
    {
      "cell_type": "markdown",
      "metadata": {
        "id": "view-in-github",
        "colab_type": "text"
      },
      "source": [
        "<a href=\"https://colab.research.google.com/github/hxh00138/ai-science-training-series/blob/main/session2_hw_Xiaohan_Hu.ipynb\" target=\"_parent\"><img src=\"https://colab.research.google.com/assets/colab-badge.svg\" alt=\"Open In Colab\"/></a>"
      ]
    },
    {
      "cell_type": "code",
      "execution_count": null,
      "metadata": {
        "colab": {
          "base_uri": "https://localhost:8080/"
        },
        "id": "LbiZgGCgOVhe",
        "outputId": "b4584038-72b4-4900-8ddc-372d613a6592"
      },
      "outputs": [
        {
          "output_type": "stream",
          "name": "stdout",
          "text": [
            "Cloning into 'ai-science-training-series'...\n",
            "remote: Enumerating objects: 2282, done.\u001b[K\n",
            "remote: Total 2282 (delta 0), reused 0 (delta 0), pack-reused 2282\u001b[K\n",
            "Receiving objects: 100% (2282/2282), 222.42 MiB | 24.60 MiB/s, done.\n",
            "Resolving deltas: 100% (1120/1120), done.\n",
            "Checking out files: 100% (272/272), done.\n",
            "/content/ai-science-training-series/02_neural_networks_python\n"
          ]
        }
      ],
      "source": [
        "!git clone https://github.com/argonne-lcf/ai-science-training-series.git\n",
        "%cd ai-science-training-series/02_neural_networks_python/"
      ]
    },
    {
      "cell_type": "code",
      "source": [
        "%load_ext autoreload\n",
        "%autoreload 2"
      ],
      "metadata": {
        "id": "MsPlcxtrOwtS"
      },
      "execution_count": null,
      "outputs": []
    },
    {
      "cell_type": "code",
      "source": [
        "%matplotlib inline\n",
        "\n",
        "import tensorflow as tf\n",
        "\n",
        "import numpy\n",
        "import matplotlib.pyplot as plt"
      ],
      "metadata": {
        "id": "o4qYsZEGO1IH"
      },
      "execution_count": null,
      "outputs": []
    },
    {
      "cell_type": "code",
      "source": [
        "from sklearn.model_selection import train_test_split"
      ],
      "metadata": {
        "id": "HnGn0_hAPDAu"
      },
      "execution_count": null,
      "outputs": []
    },
    {
      "cell_type": "code",
      "source": [
        "# repeating the data prep from the previous notebook\n",
        "(x_train, y_train), (x_test, y_test) = tf.keras.datasets.mnist.load_data()\n",
        "# EDIT: splitting training data into train and val because this is better practice than using test data to\n",
        "# choose models/hyperparameters\n",
        "x_train, x_val, y_train, y_val = train_test_split(x_train, y_train, test_size=0.33, random_state=42)\n",
        "\n",
        "x_train = x_train.astype(numpy.float32)\n",
        "# EDIT: adding pre-processing to validation data \n",
        "x_val  = x_val.astype(numpy.float32)\n",
        "x_test  = x_test.astype(numpy.float32)\n",
        "\n",
        "x_train /= 255.\n",
        "x_val  /= 255.\n",
        "x_test  /= 255.\n",
        "\n",
        "print(x_train.shape)\n",
        "x_train = x_train.reshape(x_train.shape[0], numpy.prod(x_train[0,:,:].shape))\n",
        "x_val = x_val.reshape(x_val.shape[0], numpy.prod(x_val[0,:,:].shape))\n",
        "x_test = x_test.reshape(x_test.shape[0], numpy.prod(x_test[0,:,:].shape))\n",
        "\n",
        "print(x_train.shape)\n",
        "y_train = y_train.astype(numpy.int32)\n",
        "y_val  = y_val.astype(numpy.int32)\n",
        "y_test  = y_test.astype(numpy.int32)\n",
        "\n",
        "print()\n",
        "print('MNIST data loaded: train:',len(x_train),'val:',len(x_val), 'test:',len(x_test))\n",
        "print('X_train:', x_train.shape)\n",
        "print('y_train:', y_train.shape)\n",
        "\n",
        "# one-hot encoding:\n",
        "nb_classes = 10\n",
        "y_train_onehot = tf.keras.utils.to_categorical(y_train, nb_classes)\n",
        "y_val_onehot = tf.keras.utils.to_categorical(y_val, nb_classes)\n",
        "y_test_onehot = tf.keras.utils.to_categorical(y_test, nb_classes)"
      ],
      "metadata": {
        "colab": {
          "base_uri": "https://localhost:8080/"
        },
        "id": "cPC6GoL-PETb",
        "outputId": "b28bfcef-14a4-43b7-838e-55bfff3aa89b"
      },
      "execution_count": null,
      "outputs": [
        {
          "output_type": "stream",
          "name": "stdout",
          "text": [
            "Downloading data from https://storage.googleapis.com/tensorflow/tf-keras-datasets/mnist.npz\n",
            "11490434/11490434 [==============================] - 1s 0us/step\n",
            "(40200, 28, 28)\n",
            "(40200, 784)\n",
            "\n",
            "MNIST data loaded: train: 40200 val: 19800 test: 10000\n",
            "X_train: (40200, 784)\n",
            "y_train: (40200,)\n"
          ]
        }
      ]
    },
    {
      "cell_type": "code",
      "source": [
        "# Here we import an implementation of a two-layer neural network \n",
        "# this code is based on pieces of the first assignment from Stanford's CSE231n course, \n",
        "# hosted at https://github.com/cs231n/cs231n.github.io with the MIT license\n",
        "from fc_net import TwoLayerNet"
      ],
      "metadata": {
        "id": "CKd3T0YDPKrW"
      },
      "execution_count": null,
      "outputs": []
    },
    {
      "cell_type": "code",
      "source": [
        "# a simple implementation of stochastic gradient descent\n",
        "def sgd(model, gradients, learning_rate):\n",
        "    for p, w in model.params.items():\n",
        "        dw = gradients[p]\n",
        "        new_weights = w - learning_rate * dw\n",
        "        model.params[p] = new_weights"
      ],
      "metadata": {
        "id": "OOm08RaXPNmY"
      },
      "execution_count": null,
      "outputs": []
    },
    {
      "cell_type": "code",
      "source": [
        "# one training step\n",
        "def learn(model, x_train, y_train_onehot, learning_rate):\n",
        "    loss, gradients = model.loss(x_train, y_train_onehot)\n",
        "    sgd(model, gradients, learning_rate)\n",
        "    return loss"
      ],
      "metadata": {
        "id": "csX4rnvHPSA3"
      },
      "execution_count": null,
      "outputs": []
    },
    {
      "cell_type": "code",
      "source": [
        "def accuracy(model, x, true_values):\n",
        "    scores = model.loss(x)\n",
        "    predictions = numpy.argmax(scores, axis=1)\n",
        "    N = predictions.shape[0]\n",
        "    # EDIT: squeezing true_values from 2d to 1d speeds up this function\n",
        "    true_values_1d = numpy.squeeze(true_values)\n",
        "    acc = (true_values_1d == predictions).sum() / N\n",
        "    return acc"
      ],
      "metadata": {
        "id": "Sm1mQM32PTJ5"
      },
      "execution_count": null,
      "outputs": []
    },
    {
      "cell_type": "code",
      "source": [
        "# EDIT: decided to track how long each epoch takes\n",
        "import time"
      ],
      "metadata": {
        "id": "YYtwMA1vPV6h"
      },
      "execution_count": null,
      "outputs": []
    },
    {
      "cell_type": "code",
      "source": [
        "# Here's an example training loop using this two-layer model. Can you do better? \n",
        "\n",
        "# EDIT: also track validation data\n",
        "# EDIT: factoring this out into a function to make it easier to compare options\n",
        "def training(learning_rate, batch_size, num_epochs, hidden_dim, weight_scale, x_train, y_train, y_train_onehot, x_val, y_val, y_val_onehot):\n",
        "    num_features = x_train.shape[1] # this is the number of pixels\n",
        "    nb_classes = y_train_onehot.shape[1]\n",
        "    \n",
        "    # The weights are initialized from a normal distribution with standard deviation weight_scale\n",
        "    model = TwoLayerNet(input_dim=num_features, hidden_dim=hidden_dim, num_classes=nb_classes, weight_scale=weight_scale)\n",
        "    \n",
        "    num_examples_train = x_train.shape[0]\n",
        "    num_batches_train = int(num_examples_train / batch_size)\n",
        "    \n",
        "    losses = numpy.zeros((num_batches_train*num_epochs,2)) # 1st column for training data, 2nd for validation data\n",
        "    # EDIT: also track accuracy\n",
        "    accuracies = numpy.zeros((num_batches_train*num_epochs,2)) \n",
        "    \n",
        "    indices_train = numpy.arange(num_examples_train)\n",
        "    num_examples_val = x_val.shape[0]\n",
        "    indices_val = numpy.arange(num_examples_val)\n",
        "\n",
        "    i = 0\n",
        "    for epoch in range(0, num_epochs):\n",
        "        start_epoch = time.time()\n",
        "        # in each epoch, we loop over all of the training examples\n",
        "        for step in range(0, num_batches_train):\n",
        "            # grabbing the next training batch\n",
        "            offset_train = step * batch_size\n",
        "            batch_range_train = range(offset_train, offset_train+batch_size)\n",
        "            x_train_batch = x_train[batch_range_train, :]\n",
        "            # EDIT: keep around non-onehot labels as well for accuracy calculation\n",
        "            y_train_onehot_batch = y_train_onehot[batch_range_train,:]\n",
        "            y_train_batch = y_train[batch_range_train,numpy.newaxis]\n",
        "\n",
        "            # one approach: grab a random validation batch (random offset into number of validation examples)\n",
        "            offset_val = numpy.random.randint(low=0, high=num_examples_val-batch_size)\n",
        "            batch_range_val = range(offset_val, offset_val+batch_size)\n",
        "            x_val_batch = x_val[batch_range_val, :]\n",
        "            y_val_onehot_batch = y_val_onehot[batch_range_val,:]\n",
        "            y_val_batch = y_val[batch_range_val,numpy.newaxis]\n",
        "\n",
        "            # feed the next batch in to do one sgd step\n",
        "            loss_train = learn(model, x_train_batch, y_train_onehot_batch, learning_rate)\n",
        "\n",
        "            # check training & validation loss & accuracy\n",
        "            losses[i,0] = loss_train\n",
        "            \n",
        "            # could save time by commenting out the next three lines and only tracking at the epoch level\n",
        "            accuracies[i,0] = accuracy(model, x_train_batch, y_train_batch)\n",
        "            losses[i,1], _ = model.loss(x_val_batch, y_val_onehot_batch)\n",
        "            accuracies[i,1] = accuracy(model, x_val_batch, y_val_batch)\n",
        "            i += 1\n",
        "\n",
        "        # slower, so we're only doing this once per epoch: checking accuracy on all of the data at once\n",
        "        acc_train = accuracy(model, x_train, y_train)\n",
        "        acc_val = accuracy(model, x_val, y_val)\n",
        "        \n",
        "        # reshuffle the data so that we get a new set of batches\n",
        "        numpy.random.shuffle(indices_train)\n",
        "        x_train = x_train[indices_train,:]\n",
        "        y_train = y_train[indices_train] # keep this shuffled the same way for use in accuracy calculation\n",
        "        y_train_onehot = y_train_onehot[indices_train,:]\n",
        "\n",
        "        numpy.random.shuffle(indices_val)\n",
        "        x_val = x_val[indices_val,:]\n",
        "        y_val = y_val[indices_val] \n",
        "        y_val_onehot = y_val_onehot[indices_val,:]\n",
        "        end_epoch = time.time()\n",
        "        time_this_epoch = end_epoch - start_epoch\n",
        "        print(\"epoch %d took %.1f seconds, training loss %.5f (last batch), training accuracy %.3f, validation accuracy %.3f\" % (epoch, time_this_epoch, loss_train, acc_train, acc_val))\n",
        "    return losses, accuracies, model\n"
      ],
      "metadata": {
        "id": "dDpLX9VgPZXe"
      },
      "execution_count": null,
      "outputs": []
    },
    {
      "cell_type": "code",
      "source": [
        "# these are the hyperparameters we had in class\n",
        "learning_rate = 0.1  \n",
        "batch_size = 10000\n",
        "num_epochs = 10\n",
        "hidden_dim = 1000\n",
        "weight_scale = .01\n",
        "losses, accuracies, model = training(learning_rate, batch_size, num_epochs, hidden_dim, weight_scale, x_train, y_train, y_train_onehot, x_val, y_val, y_val_onehot)\n",
        "\n",
        "# EDIT: plot training & val, loss & accuracy\n",
        "plt.figure()\n",
        "plt.subplot(2,1,1)\n",
        "plt.plot(losses[:,0])\n",
        "plt.plot(losses[:,1])\n",
        "plt.legend([\"train\", \"val\"])\n",
        "\n",
        "plt.subplot(2,1,2)\n",
        "plt.plot(accuracies[:,0])\n",
        "plt.plot(accuracies[:,1])"
      ],
      "metadata": {
        "colab": {
          "base_uri": "https://localhost:8080/",
          "height": 461
        },
        "id": "BeIR6IpwP6tB",
        "outputId": "e632fa88-cf09-4cb8-a3be-e88838b75161"
      },
      "execution_count": null,
      "outputs": [
        {
          "output_type": "stream",
          "name": "stdout",
          "text": [
            "epoch 0 took 24.7 seconds, training loss 2.27602 (last batch), training accuracy 0.437, validation accuracy 0.435\n",
            "epoch 1 took 26.3 seconds, training loss 2.23883 (last batch), training accuracy 0.593, validation accuracy 0.592\n",
            "epoch 2 took 30.2 seconds, training loss 2.19529 (last batch), training accuracy 0.659, validation accuracy 0.654\n",
            "epoch 3 took 24.7 seconds, training loss 2.14144 (last batch), training accuracy 0.688, validation accuracy 0.689\n",
            "epoch 4 took 24.2 seconds, training loss 2.07640 (last batch), training accuracy 0.709, validation accuracy 0.707\n",
            "epoch 5 took 26.3 seconds, training loss 1.99211 (last batch), training accuracy 0.724, validation accuracy 0.723\n",
            "epoch 6 took 24.5 seconds, training loss 1.89289 (last batch), training accuracy 0.734, validation accuracy 0.733\n",
            "epoch 7 took 25.7 seconds, training loss 1.78851 (last batch), training accuracy 0.741, validation accuracy 0.742\n",
            "epoch 8 took 24.8 seconds, training loss 1.66847 (last batch), training accuracy 0.745, validation accuracy 0.745\n",
            "epoch 9 took 24.0 seconds, training loss 1.54046 (last batch), training accuracy 0.750, validation accuracy 0.750\n"
          ]
        },
        {
          "output_type": "execute_result",
          "data": {
            "text/plain": [
              "[<matplotlib.lines.Line2D at 0x7f273838c4d0>]"
            ]
          },
          "metadata": {},
          "execution_count": 14
        },
        {
          "output_type": "display_data",
          "data": {
            "text/plain": [
              "<Figure size 432x288 with 2 Axes>"
            ],
            "image/png": "[encoded data removed]"
          },
          "metadata": {
            "needs_background": "light"
          }
        }
      ]
    },
    {
      "cell_type": "markdown",
      "source": [
        "#By adjusting the learning rate and the dimension of the hidden layer, we can easily increase the accuracy from roughly 40% to 75%"
      ],
      "metadata": {
        "id": "Q7R0QzFFR1Te"
      }
    }
  ]
}
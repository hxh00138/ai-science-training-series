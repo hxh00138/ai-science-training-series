{
  "nbformat": 4,
  "nbformat_minor": 0,
  "metadata": {
    "colab": {
      "provenance": [],
      "authorship_tag": "ABX9TyNFSvC93x8CsOPHFua2BDcV",
      "include_colab_link": true
    },
    "kernelspec": {
      "name": "python3",
      "display_name": "Python 3"
    },
    "language_info": {
      "name": "python"
    }
  },
  "cells": [
    {
      "cell_type": "markdown",
      "metadata": {
        "id": "view-in-github",
        "colab_type": "text"
      },
      "source": [
        "<a href=\"https://colab.research.google.com/github/hxh00138/ai-science-training-series/blob/main/session8_hw_Xiaohan_Hu.ipynb\" target=\"_parent\"><img src=\"https://colab.research.google.com/assets/colab-badge.svg\" alt=\"Open In Colab\"/></a>"
      ]
    },
    {
      "cell_type": "markdown",
      "source": [
        "# I'm interested in applying the AI techniques we learned during this training program to turbulence modeling. More specifically, I want to use AI in sub-grid scale modeling which is more the un-resolved stresses in computational fluid dynamics (CFD).\n",
        "\n",
        "# I would like to use the data from direct numerical simulation of several benchmark cases in CFD where we can postprocess the sub-grid scale stresses and use them as the training and test dataset.\n",
        "\n",
        "# I will use the convolutional neural networks for this problem. CNN is good for image problem. The sub-grid scale modeling will be similar to reconstruction of fine image from coarse image. Therefore, CNN should be suitable for this problem.\n",
        "\n",
        "# The metric used for measure success will be the diffrence between modeled stresses and the DNS sub-grid stresses."
      ],
      "metadata": {
        "id": "aumwetlQ47-S"
      }
    }
  ]
}